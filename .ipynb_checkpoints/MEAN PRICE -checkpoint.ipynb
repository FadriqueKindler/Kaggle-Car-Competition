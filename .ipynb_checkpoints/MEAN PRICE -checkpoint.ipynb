{
 "cells": [
  {
   "cell_type": "code",
   "execution_count": 1,
   "metadata": {},
   "outputs": [],
   "source": [
    "import numpy as np\n",
    "import pandas as pd\n",
    "import seaborn as sns\n",
    "import matplotlib.pyplot as plt"
   ]
  },
  {
   "cell_type": "code",
   "execution_count": 33,
   "metadata": {},
   "outputs": [],
   "source": [
    "def processData(inX, hasGT=False):\n",
    "    X = inX.copy()\n",
    "    features = ['year','manufacturer',]\n",
    "    if hasGT:\n",
    "        features.append('price')\n",
    "        features.append(\"odometer\")\n",
    "        X.dropna(subset=[\"odometer\"], inplace = True)\n",
    "\n",
    "    X = X[features]\n",
    "    X.loc[X['manufacturer'].isnull(), 'manufacturer'] = 'unknown'     \n",
    "\n",
    "    X.loc[X['year'].isnull(), 'year'] = X[\"year\"].mean()\n",
    "    X = pd.get_dummies(X,columns=['manufacturer'])\n",
    "    \n",
    "    y = None\n",
    "    if hasGT:\n",
    "        y = X['price']\n",
    "        X = X.drop(columns=['price',\"odometer\"],axis=1)\n",
    "    else:\n",
    "        y = inX['Id']\n",
    "    if 'manufacturer_mercedesbenz' in X.columns:\n",
    "        X=X.drop(columns=['manufacturer_mercedesbenz'])\n",
    "    return X, y"
   ]
  },
  {
   "cell_type": "code",
   "execution_count": 34,
   "metadata": {},
   "outputs": [],
   "source": [
    "X_submission, submission_id =  processData(pd.read_csv('datamad0819-vehicles/cars_test.csv'))\n",
    "X, y =  processData(pd.read_csv('datamad0819-vehicles/cars_train.csv'), True)"
   ]
  },
  {
   "cell_type": "code",
   "execution_count": 35,
   "metadata": {},
   "outputs": [],
   "source": [
    "import numpy as np\n",
    "from sklearn.decomposition import PCA\n",
    "\n",
    "\n",
    "pca = PCA(n_components=15)\n",
    "X_train = pca.fit_transform(X) \n",
    "X_train = pd.DataFrame(X_train)\n",
    "X_train_submission = pca.transform(X_submission)\n",
    "X_train_submission = pd.DataFrame(X_train_submission)"
   ]
  },
  {
   "cell_type": "code",
   "execution_count": 36,
   "metadata": {},
   "outputs": [
    {
     "name": "stdout",
     "output_type": "stream",
     "text": [
      "Training modelLinearRG\n"
     ]
    }
   ],
   "source": [
    "from sklearn.svm import SVR\n",
    "from sklearn.linear_model import LinearRegression\n",
    "from sklearn.tree import DecisionTreeRegressor\n",
    "from sklearn.ensemble import RandomForestRegressor\n",
    "models = {\n",
    "#    \"modelSVR\": SVR(kernel=\"linear\"),\n",
    "    \"modelLinearRG\": LinearRegression(),\n",
    "#    \"decisionTree\": DecisionTreeRegressor(random_state=0)\n",
    "#    'randomForest': RandomForestRegressor(max_depth=3, random_state=0,n_estimators=50)\n",
    "}\n",
    "\n",
    "preds = {}\n",
    "\n",
    "for label, model in models.items():\n",
    "    print(\"Training {}\".format(label))\n",
    "    model.fit(X_train,y)\n",
    "    preds[label] = model.predict(X_train_submission)"
   ]
  },
  {
   "cell_type": "code",
   "execution_count": 37,
   "metadata": {},
   "outputs": [
    {
     "data": {
      "text/html": [
       "<div>\n",
       "<style scoped>\n",
       "    .dataframe tbody tr th:only-of-type {\n",
       "        vertical-align: middle;\n",
       "    }\n",
       "\n",
       "    .dataframe tbody tr th {\n",
       "        vertical-align: top;\n",
       "    }\n",
       "\n",
       "    .dataframe thead th {\n",
       "        text-align: right;\n",
       "    }\n",
       "</style>\n",
       "<table border=\"1\" class=\"dataframe\">\n",
       "  <thead>\n",
       "    <tr style=\"text-align: right;\">\n",
       "      <th></th>\n",
       "      <th>Id</th>\n",
       "      <th>price</th>\n",
       "    </tr>\n",
       "  </thead>\n",
       "  <tbody>\n",
       "    <tr>\n",
       "      <td>0</td>\n",
       "      <td>974298</td>\n",
       "      <td>35075.858839</td>\n",
       "    </tr>\n",
       "    <tr>\n",
       "      <td>1</td>\n",
       "      <td>1051884</td>\n",
       "      <td>18372.412886</td>\n",
       "    </tr>\n",
       "    <tr>\n",
       "      <td>2</td>\n",
       "      <td>684464</td>\n",
       "      <td>18854.192404</td>\n",
       "    </tr>\n",
       "    <tr>\n",
       "      <td>3</td>\n",
       "      <td>1255387</td>\n",
       "      <td>23785.766791</td>\n",
       "    </tr>\n",
       "    <tr>\n",
       "      <td>4</td>\n",
       "      <td>1195520</td>\n",
       "      <td>30067.039891</td>\n",
       "    </tr>\n",
       "  </tbody>\n",
       "</table>\n",
       "</div>"
      ],
      "text/plain": [
       "        Id         price\n",
       "0   974298  35075.858839\n",
       "1  1051884  18372.412886\n",
       "2   684464  18854.192404\n",
       "3  1255387  23785.766791\n",
       "4  1195520  30067.039891"
      ]
     },
     "metadata": {},
     "output_type": "display_data"
    }
   ],
   "source": [
    "for label, pred in preds.items():\n",
    "    submission = pd.DataFrame({\n",
    "        'Id': submission_id,\n",
    "        'price': pred\n",
    "    })\n",
    "    display(submission.head())\n",
    "#    submission.to_csv('submission_{}.csv'.format(\"label\"), index=False)"
   ]
  },
  {
   "cell_type": "code",
   "execution_count": null,
   "metadata": {},
   "outputs": [],
   "source": []
  },
  {
   "cell_type": "code",
   "execution_count": null,
   "metadata": {},
   "outputs": [],
   "source": []
  },
  {
   "cell_type": "code",
   "execution_count": null,
   "metadata": {},
   "outputs": [],
   "source": []
  },
  {
   "cell_type": "code",
   "execution_count": null,
   "metadata": {},
   "outputs": [],
   "source": []
  },
  {
   "cell_type": "code",
   "execution_count": null,
   "metadata": {},
   "outputs": [],
   "source": []
  },
  {
   "cell_type": "code",
   "execution_count": null,
   "metadata": {},
   "outputs": [],
   "source": []
  },
  {
   "cell_type": "code",
   "execution_count": null,
   "metadata": {},
   "outputs": [],
   "source": []
  },
  {
   "cell_type": "code",
   "execution_count": null,
   "metadata": {},
   "outputs": [],
   "source": []
  },
  {
   "cell_type": "code",
   "execution_count": null,
   "metadata": {},
   "outputs": [],
   "source": []
  },
  {
   "cell_type": "code",
   "execution_count": null,
   "metadata": {},
   "outputs": [],
   "source": []
  },
  {
   "cell_type": "code",
   "execution_count": null,
   "metadata": {},
   "outputs": [],
   "source": []
  }
 ],
 "metadata": {
  "kernelspec": {
   "display_name": "Python 3",
   "language": "python",
   "name": "python3"
  },
  "language_info": {
   "codemirror_mode": {
    "name": "ipython",
    "version": 3
   },
   "file_extension": ".py",
   "mimetype": "text/x-python",
   "name": "python",
   "nbconvert_exporter": "python",
   "pygments_lexer": "ipython3",
   "version": "3.7.4"
  }
 },
 "nbformat": 4,
 "nbformat_minor": 2
}
